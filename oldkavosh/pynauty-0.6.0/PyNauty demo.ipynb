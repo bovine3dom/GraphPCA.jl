{
 "cells": [
  {
   "cell_type": "code",
   "execution_count": 2,
   "metadata": {
    "scrolled": true
   },
   "outputs": [],
   "source": [
    "import sys\n",
    "sys.path.append('../pybliss/')\n",
    "sys.path.append('../pybliss/lib/python')\n",
    "import PyBliss\n",
    "import pynauty"
   ]
  },
  {
   "cell_type": "code",
   "execution_count": 32,
   "metadata": {
    "collapsed": true
   },
   "outputs": [],
   "source": [
    "graphDict = {\n",
    "    0: [3,1,2],\n",
    "    1: [2,3],\n",
    "    2: [1,3],\n",
    "    3: [2],\n",
    "    4: [3],\n",
    "    5: [6],\n",
    "    6: [3],\n",
    "    7: [4],\n",
    "    7: [4],\n",
    "    8: [9],\n",
    "    9: [3],\n",
    "}\n",
    "graphDict2 = {\n",
    "    0: [3,1,2],\n",
    "    1: [2,3,0],\n",
    "    2: [1,3],\n",
    "    3: [1,0],\n",
    "}"
   ]
  },
  {
   "cell_type": "code",
   "execution_count": 34,
   "metadata": {},
   "outputs": [],
   "source": [
    "G = pynauty.Graph(10,directed=True,adjacency_dict=graphDict)\n",
    "G2 = pynauty.Graph(4,directed=True,adjacency_dict=graphDict2)"
   ]
  },
  {
   "cell_type": "code",
   "execution_count": null,
   "metadata": {},
   "outputs": [],
   "source": []
  },
  {
   "cell_type": "code",
   "execution_count": 35,
   "metadata": {
    "collapsed": true
   },
   "outputs": [],
   "source": [
    "GBliss = PyBliss.Graph()"
   ]
  },
  {
   "cell_type": "code",
   "execution_count": 36,
   "metadata": {},
   "outputs": [
    {
     "data": {
      "text/plain": [
       "[True, True, True, True, True, True, True, True, True, True]"
      ]
     },
     "execution_count": 36,
     "metadata": {},
     "output_type": "execute_result"
    }
   ],
   "source": [
    "[GBliss.add_vertex(i) for i in graphDict.keys()]"
   ]
  },
  {
   "cell_type": "code",
   "execution_count": 37,
   "metadata": {},
   "outputs": [],
   "source": [
    "for k,v in graphDict.items():\n",
    "    [GBliss.add_edge(k,e) for e in v]"
   ]
  },
  {
   "cell_type": "code",
   "execution_count": 38,
   "metadata": {},
   "outputs": [
    {
     "name": "stdout",
     "output_type": "stream",
     "text": [
      "The slowest run took 17.21 times longer than the fastest. This could mean that an intermediate result is being cached.\n",
      "100000 loops, best of 3: 4.48 µs per loop\n",
      "10000 loops, best of 3: 51.8 µs per loop\n"
     ]
    }
   ],
   "source": [
    "%timeit pynauty.certificate(G)\n",
    "%timeit GBliss.canonical_labeling()"
   ]
  },
  {
   "cell_type": "code",
   "execution_count": null,
   "metadata": {
    "collapsed": true
   },
   "outputs": [],
   "source": []
  }
 ],
 "metadata": {
  "kernelspec": {
   "display_name": "Python 2",
   "language": "python",
   "name": "python2"
  },
  "language_info": {
   "codemirror_mode": {
    "name": "ipython",
    "version": 2
   },
   "file_extension": ".py",
   "mimetype": "text/x-python",
   "name": "python",
   "nbconvert_exporter": "python",
   "pygments_lexer": "ipython2",
   "version": "2.7.13"
  }
 },
 "nbformat": 4,
 "nbformat_minor": 2
}
