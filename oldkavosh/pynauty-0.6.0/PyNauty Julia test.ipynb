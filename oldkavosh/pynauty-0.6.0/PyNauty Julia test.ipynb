{
 "cells": [
  {
   "cell_type": "code",
   "execution_count": 2,
   "metadata": {},
   "outputs": [],
   "source": [
    "using PyCall\n",
    "import LightGraphs\n",
    "const lg = LightGraphs"
   ]
  },
  {
   "cell_type": "code",
   "execution_count": 73,
   "metadata": {},
   "outputs": [
    {
     "data": {
      "text/plain": [
       "graphToPythonDict (generic function with 2 methods)"
      ]
     },
     "execution_count": 73,
     "metadata": {},
     "output_type": "execute_result"
    }
   ],
   "source": [
    "@pyimport pynauty\n",
    "function graphToPythonDict(G::lg.SimpleGraphs.AbstractSimpleGraph)::PyDict\n",
    "    dictstring = \"{\"\n",
    "    for n in 1:lg.nv(G)\n",
    "        ns = lg.neighbors(G,n)\n",
    "        dictstring *= length(ns) > 0 ? \"$(n-1): $(lg.neighbors(G,n).-1), \" : \"\"\n",
    "    end\n",
    "    dictstring *= \"}\"\n",
    "    py\"$$dictstring\"o\n",
    "end"
   ]
  },
  {
   "cell_type": "code",
   "execution_count": 86,
   "metadata": {
    "scrolled": false
   },
   "outputs": [
    {
     "name": "stdout",
     "output_type": "stream",
     "text": [
      "  0.000470 seconds (416 allocations: 19.109 KiB)\n"
     ]
    },
    {
     "data": {
      "text/plain": [
       "80-byte String of invalid UTF-8 data:\n",
       " 0x00\n",
       " 0x00\n",
       " 0x00\n",
       " 0x00\n",
       " 0x00\n",
       " 0x00\n",
       " 0x40\n",
       " 0x00\n",
       " 0x00\n",
       " 0x00\n",
       " 0x00\n",
       " 0x00\n",
       " 0x00\n",
       "    ⋮\n",
       " 0x00\n",
       " 0x00\n",
       " 0x00\n",
       " 0x37\n",
       " 0x00\n",
       " 0x00\n",
       " 0x00\n",
       " 0x00\n",
       " 0x00\n",
       " 0x00\n",
       " 0x00\n",
       " 0xdb"
      ]
     },
     "execution_count": 86,
     "metadata": {},
     "output_type": "execute_result"
    }
   ],
   "source": [
    "# Can't use the implicit conversion from julia dict to python!\n",
    "tG = lg.erdos_renyi(nodes,0.5)\n",
    "myD = Dict()\n",
    "@time begin\n",
    "    nodes = 10\n",
    "    myadjdict = graphToPythonDict(tG)\n",
    "    G = pynauty.Graph(nodes,directed=true,adjacency_dict=myadjdict)\n",
    "    firststring = pynauty.certificate(G)\n",
    "    myD[firststring] = 1\n",
    "end"
   ]
  },
  {
   "cell_type": "code",
   "execution_count": 64,
   "metadata": {},
   "outputs": [
    {
     "data": {
      "text/plain": [
       "PyCall.PyDict{PyCall.PyAny,PyCall.PyAny,true} with 4 entries:\n",
       "  0 => Any[3]\n",
       "  1 => Any[2]\n",
       "  2 => Any[1]\n",
       "  3 => Any[0]"
      ]
     },
     "execution_count": 64,
     "metadata": {},
     "output_type": "execute_result"
    }
   ],
   "source": [
    "graphToPythonDict(lg.erdos_renyi(5,2))"
   ]
  },
  {
   "cell_type": "code",
   "execution_count": 83,
   "metadata": {},
   "outputs": [
    {
     "ename": "UnicodeError",
     "evalue": "\u001b[91mUnicodeError: invalid character index\u001b[39m",
     "output_type": "error",
     "traceback": [
      "\u001b[91mUnicodeError: invalid character index\u001b[39m",
      "",
      "Stacktrace:",
      " [1] \u001b[1mslow_utf8_next\u001b[22m\u001b[22m\u001b[1m(\u001b[22m\u001b[22m::Ptr{UInt8}, ::UInt8, ::Int64, ::Int64\u001b[1m)\u001b[22m\u001b[22m at \u001b[1m./strings/string.jl:172\u001b[22m\u001b[22m",
      " [2] \u001b[1mnext\u001b[22m\u001b[22m at \u001b[1m./strings/string.jl:204\u001b[22m\u001b[22m [inlined]",
      " [3] \u001b[1mescape_nul\u001b[22m\u001b[22m\u001b[1m(\u001b[22m\u001b[22m::String, ::Int64\u001b[1m)\u001b[22m\u001b[22m at \u001b[1m./strings/io.jl:222\u001b[22m\u001b[22m",
      " [4] \u001b[1mescape_string\u001b[22m\u001b[22m\u001b[1m(\u001b[22m\u001b[22m::IOContext{Base.AbstractIOBuffer{Array{UInt8,1}}}, ::String, ::String\u001b[1m)\u001b[22m\u001b[22m at \u001b[1m./strings/io.jl:236\u001b[22m\u001b[22m",
      " [5] \u001b[1mprint_quoted\u001b[22m\u001b[22m at \u001b[1m./strings/io.jl:253\u001b[22m\u001b[22m [inlined]",
      " [6] \u001b[1mshow\u001b[22m\u001b[22m\u001b[1m(\u001b[22m\u001b[22m::IOContext{Base.AbstractIOBuffer{Array{UInt8,1}}}, ::String\u001b[1m)\u001b[22m\u001b[22m at \u001b[1m./strings/io.jl:124\u001b[22m\u001b[22m",
      " [7] \u001b[1m#sprint#228\u001b[22m\u001b[22m\u001b[1m(\u001b[22m\u001b[22m::IOContext{Base.AbstractIOBuffer{Array{UInt8,1}}}, ::Function, ::Int64, ::Function, ::String, ::Vararg{String,N} where N\u001b[1m)\u001b[22m\u001b[22m at \u001b[1m./strings/io.jl:64\u001b[22m\u001b[22m",
      " [8] \u001b[1m(::Base.#kw##sprint)\u001b[22m\u001b[22m\u001b[1m(\u001b[22m\u001b[22m::Array{Any,1}, ::Base.#sprint, ::Int64, ::Function, ::String, ::Vararg{String,N} where N\u001b[1m)\u001b[22m\u001b[22m at \u001b[1m./<missing>:0\u001b[22m\u001b[22m",
      " [9] \u001b[1mshow\u001b[22m\u001b[22m\u001b[1m(\u001b[22m\u001b[22m::IOContext{Base.AbstractIOBuffer{Array{UInt8,1}}}, ::MIME{Symbol(\"text/plain\")}, ::Dict{Any,Any}\u001b[1m)\u001b[22m\u001b[22m at \u001b[1m./replutil.jl:64\u001b[22m\u001b[22m",
      " [10] \u001b[1mlimitstringmime\u001b[22m\u001b[22m\u001b[1m(\u001b[22m\u001b[22m::MIME{Symbol(\"text/plain\")}, ::Dict{Any,Any}\u001b[1m)\u001b[22m\u001b[22m at \u001b[1m/home/olie/.julia/v0.6/IJulia/src/inline.jl:25\u001b[22m\u001b[22m",
      " [11] \u001b[1mdisplay_dict\u001b[22m\u001b[22m\u001b[1m(\u001b[22m\u001b[22m::Dict{Any,Any}\u001b[1m)\u001b[22m\u001b[22m at \u001b[1m/home/olie/.julia/v0.6/IJulia/src/execute_request.jl:27\u001b[22m\u001b[22m",
      " [12] \u001b[1mexecute_request\u001b[22m\u001b[22m\u001b[1m(\u001b[22m\u001b[22m::ZMQ.Socket, ::IJulia.Msg\u001b[1m)\u001b[22m\u001b[22m at \u001b[1m/home/olie/.julia/v0.6/IJulia/src/execute_request.jl:188\u001b[22m\u001b[22m",
      " [13] \u001b[1meventloop\u001b[22m\u001b[22m\u001b[1m(\u001b[22m\u001b[22m::ZMQ.Socket\u001b[1m)\u001b[22m\u001b[22m at \u001b[1m/home/olie/.julia/v0.6/IJulia/src/eventloop.jl:8\u001b[22m\u001b[22m",
      " [14] \u001b[1m(::IJulia.##11#14)\u001b[22m\u001b[22m\u001b[1m(\u001b[22m\u001b[22m\u001b[1m)\u001b[22m\u001b[22m at \u001b[1m./task.jl:335\u001b[22m\u001b[22m"
     ]
    }
   ],
   "source": [
    "myD"
   ]
  },
  {
   "cell_type": "code",
   "execution_count": null,
   "metadata": {
    "collapsed": true
   },
   "outputs": [],
   "source": []
  }
 ],
 "metadata": {
  "kernelspec": {
   "display_name": "Julia 0.6.0",
   "language": "julia",
   "name": "julia-0.6"
  },
  "language_info": {
   "file_extension": ".jl",
   "mimetype": "application/julia",
   "name": "julia",
   "version": "0.6.0"
  }
 },
 "nbformat": 4,
 "nbformat_minor": 2
}
